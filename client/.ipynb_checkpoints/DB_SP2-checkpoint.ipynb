{
 "cells": [
  {
   "cell_type": "code",
   "execution_count": null,
   "id": "16b11599",
   "metadata": {
    "pycharm": {
     "name": "#%%\n"
    }
   },
   "outputs": [],
   "source": [
    "from neo4j_setup import *\n",
    "from algorithms import *\n",
    "import matplotlib.pyplot as plt"
   ]
  },
  {
   "cell_type": "code",
   "execution_count": null,
   "id": "d4c73646",
   "metadata": {
    "pycharm": {
     "name": "#%%\n"
    }
   },
   "outputs": [],
   "source": [
    "# Purge the database\n",
    "prep_db()"
   ]
  },
  {
   "cell_type": "code",
   "execution_count": null,
   "id": "e02c019f",
   "metadata": {
    "pycharm": {
     "name": "#%%\n"
    }
   },
   "outputs": [],
   "source": [
    "# Create the database\n",
    "create_db()"
   ]
  },
  {
   "cell_type": "markdown",
   "id": "e54ea4ff",
   "metadata": {
    "pycharm": {
     "name": "#%% md\n"
    }
   },
   "source": [
    "### Query to find the most popular genre of games between 1980-2023\n",
    "This query is performed using the centrality algorithm **PageRank**. The most popular genre is based on the amount of relations between each game and genre."
   ]
  },
  {
   "cell_type": "code",
   "execution_count": null,
   "id": "1dc1b941",
   "metadata": {
    "pycharm": {
     "name": "#%%\n"
    }
   },
   "outputs": [],
   "source": [
    "# Create a Graph projection with only the game and genre nodes.\n",
    "page_rank_projection()"
   ]
  },
  {
   "cell_type": "code",
   "execution_count": null,
   "id": "424704d1",
   "metadata": {
    "pycharm": {
     "name": "#%%\n"
    }
   },
   "outputs": [],
   "source": [
    "# Call the algorithm\n",
    "genres = get_most_popular_genre()\n",
    "\n",
    "x = []\n",
    "y = []\n",
    "\n",
    "for genre in genres:\n",
    "    x.append(genre[0])\n",
    "    y.append(genre[1])"
   ]
  },
  {
   "cell_type": "code",
   "execution_count": null,
   "id": "9400c0bb",
   "metadata": {
    "pycharm": {
     "name": "#%%\n"
    }
   },
   "outputs": [],
   "source": [
    "# Bar chart\n",
    "\n",
    "# Create bar chart\n",
    "\n",
    "colors = ['red', 'blue', 'green', 'orange', 'purple', 'yellow', 'pink', 'brown', 'black', 'cyan']\n",
    "\n",
    "plt.bar(x, y, color=colors)\n",
    "\n",
    "# Add labels and title\n",
    "plt.xlabel('Genre')\n",
    "plt.ylabel('Amount of Games')\n",
    "plt.title('Genre popularity in games from 1980-2023')\n",
    "plt.xticks(rotation=90)\n",
    "\n",
    "# Display chart\n",
    "plt.show()"
   ]
  },
  {
   "cell_type": "markdown",
   "id": "b5cd86f7",
   "metadata": {
    "pycharm": {
     "name": "#%% md\n"
    }
   },
   "source": [
    "### KNN Algorithm on our Neo4j DB."
   ]
  },
  {
   "cell_type": "code",
   "execution_count": null,
   "id": "8e0b8d69",
   "metadata": {
    "pycharm": {
     "name": "#%%\n"
    }
   },
   "outputs": [],
   "source": [
    "# First we will have to, create our graph projection and store it in the graph catalog.\n",
    "create_knn_projection()\n",
    "\n",
    "# Then we will estimate the memory requirements for running the algorithm.\n",
    "knn_memory_estimation()\n",
    "\n",
    "# Then we will run the algorithm, and stream results.\n",
    "knn_stream_mode()\n",
    "\n",
    "# Then we will run the algorithm and return the result in form of statistical and measurement values.\n",
    "knn_stat_mode()\n",
    "\n",
    "# Then we will run the algorithm, and write back results to the in-memory graph\n",
    "knn_mutate_mode()\n",
    "\n",
    "# Then we will run the algorithm, and write back results.\n",
    "write_knn_graph()"
   ]
  },
  {
   "cell_type": "markdown",
   "id": "2466e5f5",
   "metadata": {
    "pycharm": {
     "name": "#%% md\n"
    }
   },
   "source": [
    "## Degree Centrality in Neo4j \n"
   ]
  },
  {
   "cell_type": "code",
   "execution_count": null,
   "id": "36a0bae8",
   "metadata": {
    "pycharm": {
     "name": "#%%\n"
    }
   },
   "outputs": [],
   "source": [
    "# Creates the wanted projection\n",
    "degree_centrality_projection()"
   ]
  },
  {
   "cell_type": "code",
   "execution_count": null,
   "id": "30990a3d",
   "metadata": {
    "pycharm": {
     "name": "#%%\n"
    }
   },
   "outputs": [],
   "source": [
    "# The cost of running the algorithm using the estimate procedure.\n",
    "estimate_cpu_cost()"
   ]
  },
  {
   "cell_type": "code",
   "execution_count": null,
   "id": "41df0bae",
   "metadata": {
    "pycharm": {
     "name": "#%%\n"
    }
   },
   "outputs": [],
   "source": [
    "# Calculate which node has the highest degree\n",
    "degree = calculate_highest_degree_centrality()\n",
    "\n",
    "for item in degree[:15]:\n",
    "    print(f'Game: {item[0]},  Degree score: {item[1]}')"
   ]
  }
 ],
 "metadata": {
  "kernelspec": {
   "display_name": "Python 3 (ipykernel)",
   "language": "python",
   "name": "python3"
  },
  "language_info": {
   "codemirror_mode": {
    "name": "ipython",
    "version": 3
   },
   "file_extension": ".py",
   "mimetype": "text/x-python",
   "name": "python",
   "nbconvert_exporter": "python",
   "pygments_lexer": "ipython3",
   "version": "3.10.10"
  }
 },
 "nbformat": 4,
 "nbformat_minor": 5
}
