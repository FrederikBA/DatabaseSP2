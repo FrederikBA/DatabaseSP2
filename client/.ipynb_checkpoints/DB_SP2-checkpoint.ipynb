{
 "cells": [
  {
   "cell_type": "code",
<<<<<<< HEAD
   "execution_count": 5,
   "id": "c9321bfe",
=======
   "execution_count": 9,
   "id": "424e53a4",
>>>>>>> c46804b030cf21e5ce28181a79fd2cc64572fb1d
   "metadata": {
    "pycharm": {
     "name": "#%%\n"
    }
   },
   "outputs": [],
   "source": [
    "from neo4j_setup import *"
   ]
  },
  {
   "cell_type": "code",
<<<<<<< HEAD
   "execution_count": 6,
   "id": "46fb89f0",
   "metadata": {},
   "outputs": [
    {
     "ename": "NameError",
     "evalue": "name 'neo4j_conn' is not defined",
     "output_type": "error",
     "traceback": [
      "\u001b[1;31m---------------------------------------------------------------------------\u001b[0m",
      "\u001b[1;31mNameError\u001b[0m                                 Traceback (most recent call last)",
      "Cell \u001b[1;32mIn[6], line 1\u001b[0m\n\u001b[1;32m----> 1\u001b[0m \u001b[43mprep_db\u001b[49m\u001b[43m(\u001b[49m\u001b[43m)\u001b[49m\n",
      "File \u001b[1;32m~\\Projects\\DatabaseSP2\\client\\neo4j_setup.py:12\u001b[0m, in \u001b[0;36mprep_db\u001b[1;34m()\u001b[0m\n\u001b[0;32m      9\u001b[0m \u001b[38;5;28;01mdef\u001b[39;00m \u001b[38;5;21mprep_db\u001b[39m():\n\u001b[0;32m     10\u001b[0m     \u001b[38;5;124;03m\"\"\" Here we can send queries to our Neo4j database: Or create a new DB if none exists first we make sure that\u001b[39;00m\n\u001b[0;32m     11\u001b[0m \u001b[38;5;124;03m    there are no leftover data in our DB. \"\"\"\u001b[39;00m\n\u001b[1;32m---> 12\u001b[0m     conn \u001b[38;5;241m=\u001b[39m \u001b[43mconnect_neo4j\u001b[49m\u001b[43m(\u001b[49m\u001b[43m)\u001b[49m\n\u001b[0;32m     13\u001b[0m     conn\u001b[38;5;241m.\u001b[39mquery(\u001b[38;5;124m\"\u001b[39m\u001b[38;5;124mMATCH ()-[r]->() DELETE r\u001b[39m\u001b[38;5;124m\"\u001b[39m)\n\u001b[0;32m     14\u001b[0m     conn\u001b[38;5;241m.\u001b[39mquery(\u001b[38;5;124m\"\u001b[39m\u001b[38;5;124mMATCH (n) DETACH DELETE n\u001b[39m\u001b[38;5;124m\"\u001b[39m)\n",
      "File \u001b[1;32m~\\Projects\\DatabaseSP2\\client\\neo4j_setup.py:6\u001b[0m, in \u001b[0;36mconnect_neo4j\u001b[1;34m()\u001b[0m\n\u001b[0;32m      4\u001b[0m \u001b[38;5;28;01mdef\u001b[39;00m \u001b[38;5;21mconnect_neo4j\u001b[39m():\n\u001b[0;32m      5\u001b[0m     \u001b[38;5;124;03m\"\"\" Constructing our Neo4j connection string \"\"\"\u001b[39;00m\n\u001b[1;32m----> 6\u001b[0m     \u001b[38;5;28;01mreturn\u001b[39;00m \u001b[43mneo4j_conn\u001b[49m\u001b[38;5;241m.\u001b[39mNeo4jConnection(uri\u001b[38;5;241m=\u001b[39m\u001b[38;5;124m\"\u001b[39m\u001b[38;5;124mbolt://localhost:7687\u001b[39m\u001b[38;5;124m\"\u001b[39m, user\u001b[38;5;241m=\u001b[39m\u001b[38;5;124m\"\u001b[39m\u001b[38;5;124mneo4j\u001b[39m\u001b[38;5;124m\"\u001b[39m, pwd\u001b[38;5;241m=\u001b[39m\u001b[38;5;124m\"\u001b[39m\u001b[38;5;124m12345678\u001b[39m\u001b[38;5;124m\"\u001b[39m)\n",
      "\u001b[1;31mNameError\u001b[0m: name 'neo4j_conn' is not defined"
=======
   "execution_count": 12,
   "id": "2c953294",
   "metadata": {},
   "outputs": [
    {
     "name": "stdout",
     "output_type": "stream",
     "text": [
      "Neo4j database was successfully purged of data\n"
>>>>>>> c46804b030cf21e5ce28181a79fd2cc64572fb1d
     ]
    }
   ],
   "source": [
<<<<<<< HEAD
=======
    "# Purge the database\n",
>>>>>>> c46804b030cf21e5ce28181a79fd2cc64572fb1d
    "prep_db()"
   ]
  },
  {
   "cell_type": "code",
   "execution_count": null,
<<<<<<< HEAD
   "id": "bd2b5635",
   "metadata": {},
   "outputs": [],
   "source": []
=======
   "id": "3e8ba3c7",
   "metadata": {},
   "outputs": [],
   "source": [
    "# Create the database\n",
    "create_db()"
   ]
>>>>>>> c46804b030cf21e5ce28181a79fd2cc64572fb1d
  }
 ],
 "metadata": {
  "kernelspec": {
   "display_name": "Python 3 (ipykernel)",
   "language": "python",
   "name": "python3"
  },
  "language_info": {
   "codemirror_mode": {
    "name": "ipython",
    "version": 3
   },
   "file_extension": ".py",
   "mimetype": "text/x-python",
   "name": "python",
   "nbconvert_exporter": "python",
   "pygments_lexer": "ipython3",
<<<<<<< HEAD
   "version": "3.10.10"
=======
   "version": "3.9.13"
>>>>>>> c46804b030cf21e5ce28181a79fd2cc64572fb1d
  }
 },
 "nbformat": 4,
 "nbformat_minor": 5
}
