{
 "cells": [
  {
   "cell_type": "code",
   "execution_count": 9,
   "id": "424e53a4",
   "metadata": {
    "pycharm": {
     "name": "#%%\n"
    }
   },
   "outputs": [],
   "source": [
    "from neo4j_setup import *"
   ]
  },
  {
   "cell_type": "code",
   "execution_count": 12,
   "id": "2c953294",
   "metadata": {},
   "outputs": [
    {
     "name": "stdout",
     "output_type": "stream",
     "text": [
      "Neo4j database was successfully purged of data\n"
     ]
    }
   ],
   "source": [
    "# Purge the database\n",
    "prep_db()"
   ]
  },
  {
   "cell_type": "code",
   "execution_count": null,
   "id": "3e8ba3c7",
   "metadata": {},
   "outputs": [],
   "source": [
    "# Create the database\n",
    "create_db()"
   ]
  }
 ],
 "metadata": {
  "kernelspec": {
   "display_name": "Python 3 (ipykernel)",
   "language": "python",
   "name": "python3"
  },
  "language_info": {
   "codemirror_mode": {
    "name": "ipython",
    "version": 3
   },
   "file_extension": ".py",
   "mimetype": "text/x-python",
   "name": "python",
   "nbconvert_exporter": "python",
   "pygments_lexer": "ipython3",
   "version": "3.9.13"
  }
 },
 "nbformat": 4,
 "nbformat_minor": 5
}
