{
 "cells": [
  {
   "cell_type": "code",
   "execution_count": null,
   "id": "21ea41ba",
   "metadata": {
    "pycharm": {
     "name": "#%%\n"
    }
   },
   "outputs": [],
   "source": [
    "from neo4j_setup import *\n",
    "from algorithms import *\n",
    "import matplotlib.pyplot as plt"
   ]
  },
  {
   "cell_type": "code",
   "execution_count": null,
   "id": "165781a1",
   "metadata": {
    "pycharm": {
     "name": "#%%\n"
    }
   },
   "outputs": [],
   "source": [
    "# Purge the database\n",
    "prep_db()"
   ]
  },
  {
   "cell_type": "code",
   "execution_count": null,
   "id": "50eaef32",
   "metadata": {
    "pycharm": {
     "name": "#%%\n"
    }
   },
   "outputs": [],
   "source": [
    "# Create the database\n",
    "create_db()"
   ]
  },
  {
   "cell_type": "code",
   "execution_count": null,
   "id": "c8c86186",
   "metadata": {
    "pycharm": {
     "name": "#%%\n"
    }
   },
   "outputs": [],
   "source": [
    "# Bar chart\n",
    "# Data\n",
    "x_values = ['A', 'B', 'C', 'D', 'E']\n",
    "y_values = [10, 24, 36, 40, 15]\n",
    "\n",
    "# Create bar chart\n",
    "plt.bar(x_values, y_values)\n",
    "\n",
    "# Add labels and title\n",
    "plt.xlabel('X-axis label')\n",
    "plt.ylabel('Y-axis label')\n",
    "plt.title('Title of Bar Chart')\n",
    "\n",
    "# Display chart\n",
    "plt.show()"
   ]
  },
  {
   "cell_type": "markdown",
   "id": "db7ff690",
   "metadata": {},
   "source": [
    "### KNN Algorithm on our Neo4j DB."
   ]
  },
  {
   "cell_type": "code",
   "execution_count": null,
   "id": "584d6a82",
   "metadata": {},
   "outputs": [],
   "source": [
    "# First we will have to, create our graph projection and store it in the graph catalog.\n",
    "create_knn_projection()\n",
    "\n",
    "# Then we will estimate the memory requirements for running the algorithm.\n",
    "knn_memory_estimation()\n",
    "\n",
    "# Then we will run the algorithm, and stream results.\n",
    "knn_stream_mode()\n",
    "\n",
    "# Then we will run the algorithm and return the result in form of statistical and measurement values.\n",
    "knn_stat_mode()\n",
    "\n",
    "# Then we will run the algorithm, and write back results to the in-memory graph\n",
    "knn_mutate_mode()\n",
    "\n",
    "# Then we will run the algorithm, and write back results.\n",
    "write_knn_graph()"
   ]
  }
 ],
 "metadata": {
  "kernelspec": {
   "display_name": "Python 3 (ipykernel)",
   "language": "python",
   "name": "python3"
  },
  "language_info": {
   "codemirror_mode": {
    "name": "ipython",
    "version": 3
   },
   "file_extension": ".py",
   "mimetype": "text/x-python",
   "name": "python",
   "nbconvert_exporter": "python",
   "pygments_lexer": "ipython3",
   "version": "3.10.10"
  }
 },
 "nbformat": 4,
 "nbformat_minor": 5
}
